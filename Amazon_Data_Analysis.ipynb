{
 "cells": [
  {
   "cell_type": "code",
   "execution_count": 273,
   "id": "af65387a-fe7b-4b38-86d9-ac8c7117413e",
   "metadata": {},
   "outputs": [],
   "source": [
    "#P.Divya\n",
    "#email:divyapitla70@gmail.com"
   ]
  },
  {
   "cell_type": "code",
   "execution_count": 274,
   "id": "ddd2a7e8-7296-4788-9a00-9dc1934017aa",
   "metadata": {},
   "outputs": [],
   "source": [
    "import requests\n",
    "from bs4 import BeautifulSoup\n",
    "import pandas as pd\n",
    "import numpy as np\n",
    "from textblob import TextBlob\n",
    "import time\n",
    "import matplotlib.pyplot as plt\n",
    "import seaborn as sns"
   ]
  },
  {
   "cell_type": "code",
   "execution_count": 275,
   "id": "aabaabfd-6d97-4b91-80d8-eb9e353df0a4",
   "metadata": {},
   "outputs": [],
   "source": [
    "def get_title(soup):\n",
    "    try:\n",
    "        title = soup.find(\"span\", attrs={\"id\": \"productTitle\"})\n",
    "        title_value = title.text.strip()\n",
    "    except AttributeError:\n",
    "        title_value = \"\"\n",
    "    return title_value"
   ]
  },
  {
   "cell_type": "code",
   "execution_count": 276,
   "id": "ad896ddd-ae8c-4e12-b87d-d61c28dbc892",
   "metadata": {},
   "outputs": [],
   "source": [
    "\n",
    "def get_price_details(soup):\n",
    "    try:\n",
    "        original_price = soup.find(\"span\", attrs={'class':'a-price a-text-price a-size-base'}).find(\"span\",attrs={'class':\"a-offscreen\"}).string.strip()\n",
    "        deal_price = soup.find(\"span\", attrs={'class':'a-price a-text-price a-size-medium apexPriceToPay'}).find(\"span\",attrs={'class':\"a-offscreen\"}).string.strip()\n",
    "    except AttributeError:\n",
    "        original_price, deal_price = \"\", \"\"\n",
    "    return original_price, deal_price"
   ]
  },
  {
   "cell_type": "code",
   "execution_count": 277,
   "id": "7480e050-ce76-4c46-9591-3e034d0c6612",
   "metadata": {},
   "outputs": [],
   "source": [
    "def get_rating(soup):\n",
    "    try:\n",
    "        \n",
    "        rating_element = soup.find(\"i\", class_=lambda x: x and \"a-icon-star-medium\" in x)\n",
    "      \n",
    "        if rating_element:\n",
    "            \n",
    "            for cls in rating_element.get(\"class\", []):\n",
    "                if cls.startswith(\"a-star-medium-\"):\n",
    "                   \n",
    "                    return float(cls.split(\"-\")[-1].replace(\"-\", \".\"))\n",
    "    except AttributeError:\n",
    "        return None  \n"
   ]
  },
  {
   "cell_type": "code",
   "execution_count": 278,
   "id": "c40137d5-17bf-4e0c-b211-ce851f193e6d",
   "metadata": {},
   "outputs": [],
   "source": [
    "# Function to extract Number of User Reviews\n",
    "\n",
    "def get_review_count(soup):\n",
    "    try:\n",
    "        review_count = soup.find(\"span\", attrs={'id': \"acrCustomerReviewText\"}).string.strip()\n",
    "    except AttributeError:\n",
    "        review_count = \"\"\n",
    "    return review_count"
   ]
  },
  {
   "cell_type": "code",
   "execution_count": 279,
   "id": "60edc554-68d5-4837-ab1e-84d3a21bbc1b",
   "metadata": {},
   "outputs": [],
   "source": [
    "# Function to extract Preferred Style\n",
    "def extract_style(title):\n",
    "    styles = [\"modern\", \"bohemian\", \"minimalist\", \"rustic\"]\n",
    "    for style in styles:\n",
    "        if style in title.lower():\n",
    "            return style\n",
    "    return \"Other\""
   ]
  },
  {
   "cell_type": "code",
   "execution_count": 280,
   "id": "80c3a432-7d25-4531-8d1d-34db39d03fb1",
   "metadata": {},
   "outputs": [],
   "source": [
    "# Function to classify Budget Range\n",
    "def classify_budget(price):\n",
    "    try:\n",
    "        price = float(price[1:].replace(',', ''))\n",
    "        if price < 500:\n",
    "            return \"Low\"\n",
    "        elif price < 2000:\n",
    "            return \"Mid\"\n",
    "        else:\n",
    "            return \"High\"\n",
    "    except:\n",
    "        return \"Unknown\""
   ]
  },
  {
   "cell_type": "code",
   "execution_count": 281,
   "id": "7c9cffa4-39fe-41de-8e4f-1026061bc2bc",
   "metadata": {},
   "outputs": [],
   "source": [
    "# Function to analyze Sentiment\n",
    "def analyze_sentiment(review):\n",
    "    if not review:\n",
    "        return \"Neutral\"\n",
    "    analysis = TextBlob(review)\n",
    "    if analysis.sentiment.polarity > 0:\n",
    "        return \"Positive\"\n",
    "    elif analysis.sentiment.polarity < 0:\n",
    "        return \"Negative\"\n",
    "    else:\n",
    "        return \"Neutral\""
   ]
  },
  {
   "cell_type": "code",
   "execution_count": 282,
   "id": "4b5265dc-1d7c-4e4f-bb40-998399cd939a",
   "metadata": {},
   "outputs": [
    {
     "name": "stdout",
     "output_type": "stream",
     "text": [
      "Data saved to amazon_home_decor.csv\n"
     ]
    },
    {
     "name": "stderr",
     "output_type": "stream",
     "text": [
      "C:\\Users\\Divya Pitla\\AppData\\Local\\Temp\\ipykernel_29496\\1933750197.py:51: FutureWarning: A value is trying to be set on a copy of a DataFrame or Series through chained assignment using an inplace method.\n",
      "The behavior will change in pandas 3.0. This inplace method will never work because the intermediate object on which we are setting values always behaves as a copy.\n",
      "\n",
      "For example, when doing 'df[col].method(value, inplace=True)', try using 'df.method({col: value}, inplace=True)' or df[col] = df[col].method(value) instead, to perform the operation inplace on the original object.\n",
      "\n",
      "\n",
      "  amazon_df['title'].replace('', np.nan, inplace=True)\n"
     ]
    }
   ],
   "source": [
    "if __name__ == '__main__':\n",
    "     #user agent\n",
    "    HEADERS = ({'User-Agent':'Mozilla/5.0 (Windows NT 10.0; Win64; x64) AppleWebKit/537.36 (KHTML, like Gecko) Chrome/132.0.0.0 Safari/537.36',\n",
    "                'Accept-Language':'en-US, en;q=0.5'})\n",
    "\n",
    "    \n",
    "    URL = \"https://www.amazon.com/s?k=home+decor\" \n",
    "     \n",
    "    d = {\"title\": [], \"original_price\": [], \"deal_price\": [], \"rating\": [], \"reviews\": [], \"style\": [], \"budget\": [], \"sentiment\": []}\n",
    "\n",
    "    # HTTP Request\n",
    "    webpage = requests.get(URL, headers=HEADERS)\n",
    "    \n",
    "    soup = BeautifulSoup(webpage.content, \"html.parser\")\n",
    "\n",
    "    # Fetch links as List of Tag Objects\n",
    "    links = soup.findAll(\"a\", attrs={'class': 'a-link-normal s-no-outline'})\n",
    "\n",
    "    # Store the links\n",
    "    links_list = []\n",
    "    links_list = list(set(links_list))  # Removes duplicates\n",
    "\n",
    "    for link in links:\n",
    "        href = link.get('href')  \n",
    "        if href: \n",
    "            links_list.append(\"https://www.amazon.com/\"  + href)\n",
    "\n",
    "    for link in links_list:\n",
    "        new_webpage = requests.get(link, headers=HEADERS)\n",
    "        new_soup = BeautifulSoup(new_webpage.content, \"html.parser\")\n",
    "\n",
    "        # Function calls to get data\n",
    "        title = get_title(new_soup)\n",
    "        original_price, deal_price = get_price_details(new_soup)\n",
    "        rating = get_rating(new_soup)\n",
    "        reviews = get_review_count(new_soup)\n",
    "\n",
    "        d['title'].append(title)\n",
    "        d['original_price'].append(original_price)\n",
    "        d['deal_price'].append(deal_price)\n",
    "        d['rating'].append(rating)\n",
    "        d['reviews'].append(reviews)\n",
    "        d['style'].append(extract_style(title))\n",
    "        d['budget'].append(classify_budget(deal_price))\n",
    "        d['sentiment'].append(analyze_sentiment(reviews))\n",
    "\n",
    "    # Create DataFrame\n",
    "    amazon_df = pd.DataFrame.from_dict(d)\n",
    "\n",
    "    # Clean and save the data\n",
    "    amazon_df['title'].replace('', np.nan, inplace=True)\n",
    "    amazon_df = amazon_df.dropna(subset=['title'])\n",
    "    amazon_df = amazon_df.drop_duplicates(subset=['title'])\n",
    "    amazon_df.to_csv(\"amazon_home_decor.csv\", header=True, index=False)\n",
    "    print(\"Data saved to amazon_home_decor.csv\")\n"
   ]
  },
  {
   "cell_type": "code",
   "execution_count": 283,
   "id": "cb702e25-8b43-4802-80d8-3d25e50bf482",
   "metadata": {},
   "outputs": [
    {
     "data": {
      "text/plain": [
       "<Response [200]>"
      ]
     },
     "execution_count": 283,
     "metadata": {},
     "output_type": "execute_result"
    }
   ],
   "source": [
    " webpage "
   ]
  },
  {
   "cell_type": "code",
   "execution_count": 284,
   "id": "8ba128fd-f528-4c22-930a-6eacb15ad7d4",
   "metadata": {},
   "outputs": [],
   "source": [
    "import pandas as pd"
   ]
  },
  {
   "cell_type": "code",
   "execution_count": 285,
   "id": "17c11695-faef-40dd-b159-9b66eab638a7",
   "metadata": {},
   "outputs": [],
   "source": [
    "df=pd.read_csv('amazon_home_decor.csv')"
   ]
  },
  {
   "cell_type": "code",
   "execution_count": 286,
   "id": "d01186c8-6eb1-4cbc-8cbc-1a0d22526a39",
   "metadata": {},
   "outputs": [
    {
     "data": {
      "text/html": [
       "<div>\n",
       "<style scoped>\n",
       "    .dataframe tbody tr th:only-of-type {\n",
       "        vertical-align: middle;\n",
       "    }\n",
       "\n",
       "    .dataframe tbody tr th {\n",
       "        vertical-align: top;\n",
       "    }\n",
       "\n",
       "    .dataframe thead th {\n",
       "        text-align: right;\n",
       "    }\n",
       "</style>\n",
       "<table border=\"1\" class=\"dataframe\">\n",
       "  <thead>\n",
       "    <tr style=\"text-align: right;\">\n",
       "      <th></th>\n",
       "      <th>title</th>\n",
       "      <th>original_price</th>\n",
       "      <th>deal_price</th>\n",
       "      <th>rating</th>\n",
       "      <th>reviews</th>\n",
       "      <th>style</th>\n",
       "      <th>budget</th>\n",
       "      <th>sentiment</th>\n",
       "    </tr>\n",
       "  </thead>\n",
       "  <tbody>\n",
       "    <tr>\n",
       "      <th>0</th>\n",
       "      <td>Zenna Home Designer Series Medicine Cabinet wi...</td>\n",
       "      <td>NaN</td>\n",
       "      <td>NaN</td>\n",
       "      <td>4.0</td>\n",
       "      <td>1,151 ratings</td>\n",
       "      <td>Other</td>\n",
       "      <td>Unknown</td>\n",
       "      <td>Neutral</td>\n",
       "    </tr>\n",
       "    <tr>\n",
       "      <th>1</th>\n",
       "      <td>Candle Warmer Lamp with Timer, Adjustable Heig...</td>\n",
       "      <td>$35.59</td>\n",
       "      <td>$29.99</td>\n",
       "      <td>5.0</td>\n",
       "      <td>1,114 ratings</td>\n",
       "      <td>Other</td>\n",
       "      <td>Low</td>\n",
       "      <td>Neutral</td>\n",
       "    </tr>\n",
       "    <tr>\n",
       "      <th>2</th>\n",
       "      <td>OLANLY Bathroom Rugs 30x20, Extra Soft Absorbe...</td>\n",
       "      <td>NaN</td>\n",
       "      <td>NaN</td>\n",
       "      <td>5.0</td>\n",
       "      <td>6,491 ratings</td>\n",
       "      <td>Other</td>\n",
       "      <td>Unknown</td>\n",
       "      <td>Neutral</td>\n",
       "    </tr>\n",
       "    <tr>\n",
       "      <th>3</th>\n",
       "      <td>Candle Warmer Lamp with Timer Dimmer Adjustabl...</td>\n",
       "      <td>$39.99</td>\n",
       "      <td>$33.99</td>\n",
       "      <td>5.0</td>\n",
       "      <td>674 ratings</td>\n",
       "      <td>Other</td>\n",
       "      <td>Low</td>\n",
       "      <td>Neutral</td>\n",
       "    </tr>\n",
       "    <tr>\n",
       "      <th>4</th>\n",
       "      <td>Candle Warmer Lamp with Timer and Dimmer,Elect...</td>\n",
       "      <td>$35.99</td>\n",
       "      <td>$33.99</td>\n",
       "      <td>5.0</td>\n",
       "      <td>233 ratings</td>\n",
       "      <td>Other</td>\n",
       "      <td>Low</td>\n",
       "      <td>Neutral</td>\n",
       "    </tr>\n",
       "    <tr>\n",
       "      <th>5</th>\n",
       "      <td>Kitcom Handmade Crystal Bookends Half-Obelisk ...</td>\n",
       "      <td>NaN</td>\n",
       "      <td>NaN</td>\n",
       "      <td>5.0</td>\n",
       "      <td>21 ratings</td>\n",
       "      <td>Other</td>\n",
       "      <td>Unknown</td>\n",
       "      <td>Neutral</td>\n",
       "    </tr>\n",
       "    <tr>\n",
       "      <th>6</th>\n",
       "      <td>Under Cabinet Lighting Wireless, 1600mAh Recha...</td>\n",
       "      <td>$49.99</td>\n",
       "      <td>$23.99</td>\n",
       "      <td>5.0</td>\n",
       "      <td>38 ratings</td>\n",
       "      <td>Other</td>\n",
       "      <td>Low</td>\n",
       "      <td>Neutral</td>\n",
       "    </tr>\n",
       "    <tr>\n",
       "      <th>7</th>\n",
       "      <td>Under Cabinet Lights, 3 Color Temperatures Mot...</td>\n",
       "      <td>$35.99</td>\n",
       "      <td>$18.00</td>\n",
       "      <td>4.0</td>\n",
       "      <td>100 ratings</td>\n",
       "      <td>Other</td>\n",
       "      <td>Low</td>\n",
       "      <td>Neutral</td>\n",
       "    </tr>\n",
       "    <tr>\n",
       "      <th>8</th>\n",
       "      <td>Warm Color LED Closet Lights Wireless Motion S...</td>\n",
       "      <td>NaN</td>\n",
       "      <td>NaN</td>\n",
       "      <td>5.0</td>\n",
       "      <td>11,041 ratings</td>\n",
       "      <td>Other</td>\n",
       "      <td>Unknown</td>\n",
       "      <td>Neutral</td>\n",
       "    </tr>\n",
       "    <tr>\n",
       "      <th>9</th>\n",
       "      <td>Shower Caddy Adhesive Shower Organizer Bathroo...</td>\n",
       "      <td>NaN</td>\n",
       "      <td>NaN</td>\n",
       "      <td>5.0</td>\n",
       "      <td>2,097 ratings</td>\n",
       "      <td>Other</td>\n",
       "      <td>Unknown</td>\n",
       "      <td>Neutral</td>\n",
       "    </tr>\n",
       "  </tbody>\n",
       "</table>\n",
       "</div>"
      ],
      "text/plain": [
       "                                               title original_price  \\\n",
       "0  Zenna Home Designer Series Medicine Cabinet wi...            NaN   \n",
       "1  Candle Warmer Lamp with Timer, Adjustable Heig...         $35.59   \n",
       "2  OLANLY Bathroom Rugs 30x20, Extra Soft Absorbe...            NaN   \n",
       "3  Candle Warmer Lamp with Timer Dimmer Adjustabl...         $39.99   \n",
       "4  Candle Warmer Lamp with Timer and Dimmer,Elect...         $35.99   \n",
       "5  Kitcom Handmade Crystal Bookends Half-Obelisk ...            NaN   \n",
       "6  Under Cabinet Lighting Wireless, 1600mAh Recha...         $49.99   \n",
       "7  Under Cabinet Lights, 3 Color Temperatures Mot...         $35.99   \n",
       "8  Warm Color LED Closet Lights Wireless Motion S...            NaN   \n",
       "9  Shower Caddy Adhesive Shower Organizer Bathroo...            NaN   \n",
       "\n",
       "  deal_price  rating         reviews  style   budget sentiment  \n",
       "0        NaN     4.0   1,151 ratings  Other  Unknown   Neutral  \n",
       "1     $29.99     5.0   1,114 ratings  Other      Low   Neutral  \n",
       "2        NaN     5.0   6,491 ratings  Other  Unknown   Neutral  \n",
       "3     $33.99     5.0     674 ratings  Other      Low   Neutral  \n",
       "4     $33.99     5.0     233 ratings  Other      Low   Neutral  \n",
       "5        NaN     5.0      21 ratings  Other  Unknown   Neutral  \n",
       "6     $23.99     5.0      38 ratings  Other      Low   Neutral  \n",
       "7     $18.00     4.0     100 ratings  Other      Low   Neutral  \n",
       "8        NaN     5.0  11,041 ratings  Other  Unknown   Neutral  \n",
       "9        NaN     5.0   2,097 ratings  Other  Unknown   Neutral  "
      ]
     },
     "execution_count": 286,
     "metadata": {},
     "output_type": "execute_result"
    }
   ],
   "source": [
    "df.head(10)"
   ]
  },
  {
   "cell_type": "code",
   "execution_count": 287,
   "id": "25d0f1c0-f50d-45c6-b83e-95342b4baab3",
   "metadata": {},
   "outputs": [
    {
     "name": "stdout",
     "output_type": "stream",
     "text": [
      "<class 'pandas.core.frame.DataFrame'>\n",
      "RangeIndex: 65 entries, 0 to 64\n",
      "Data columns (total 8 columns):\n",
      " #   Column          Non-Null Count  Dtype  \n",
      "---  ------          --------------  -----  \n",
      " 0   title           65 non-null     object \n",
      " 1   original_price  16 non-null     object \n",
      " 2   deal_price      16 non-null     object \n",
      " 3   rating          65 non-null     float64\n",
      " 4   reviews         65 non-null     object \n",
      " 5   style           65 non-null     object \n",
      " 6   budget          65 non-null     object \n",
      " 7   sentiment       65 non-null     object \n",
      "dtypes: float64(1), object(7)\n",
      "memory usage: 4.2+ KB\n"
     ]
    }
   ],
   "source": [
    "df.info()"
   ]
  },
  {
   "cell_type": "code",
   "execution_count": 288,
   "id": "a3233675-f669-4dd6-b293-215ab226f34f",
   "metadata": {},
   "outputs": [
    {
     "data": {
      "text/plain": [
       "(65, 8)"
      ]
     },
     "execution_count": 288,
     "metadata": {},
     "output_type": "execute_result"
    }
   ],
   "source": [
    "df.shape"
   ]
  },
  {
   "cell_type": "code",
   "execution_count": 289,
   "id": "b5f9004e-de95-42f3-be2d-948880a9b193",
   "metadata": {},
   "outputs": [
    {
     "data": {
      "text/html": [
       "<div>\n",
       "<style scoped>\n",
       "    .dataframe tbody tr th:only-of-type {\n",
       "        vertical-align: middle;\n",
       "    }\n",
       "\n",
       "    .dataframe tbody tr th {\n",
       "        vertical-align: top;\n",
       "    }\n",
       "\n",
       "    .dataframe thead th {\n",
       "        text-align: right;\n",
       "    }\n",
       "</style>\n",
       "<table border=\"1\" class=\"dataframe\">\n",
       "  <thead>\n",
       "    <tr style=\"text-align: right;\">\n",
       "      <th></th>\n",
       "      <th>rating</th>\n",
       "    </tr>\n",
       "  </thead>\n",
       "  <tbody>\n",
       "    <tr>\n",
       "      <th>count</th>\n",
       "      <td>65.000000</td>\n",
       "    </tr>\n",
       "    <tr>\n",
       "      <th>mean</th>\n",
       "      <td>4.892308</td>\n",
       "    </tr>\n",
       "    <tr>\n",
       "      <th>std</th>\n",
       "      <td>0.312404</td>\n",
       "    </tr>\n",
       "    <tr>\n",
       "      <th>min</th>\n",
       "      <td>4.000000</td>\n",
       "    </tr>\n",
       "    <tr>\n",
       "      <th>25%</th>\n",
       "      <td>5.000000</td>\n",
       "    </tr>\n",
       "    <tr>\n",
       "      <th>50%</th>\n",
       "      <td>5.000000</td>\n",
       "    </tr>\n",
       "    <tr>\n",
       "      <th>75%</th>\n",
       "      <td>5.000000</td>\n",
       "    </tr>\n",
       "    <tr>\n",
       "      <th>max</th>\n",
       "      <td>5.000000</td>\n",
       "    </tr>\n",
       "  </tbody>\n",
       "</table>\n",
       "</div>"
      ],
      "text/plain": [
       "          rating\n",
       "count  65.000000\n",
       "mean    4.892308\n",
       "std     0.312404\n",
       "min     4.000000\n",
       "25%     5.000000\n",
       "50%     5.000000\n",
       "75%     5.000000\n",
       "max     5.000000"
      ]
     },
     "execution_count": 289,
     "metadata": {},
     "output_type": "execute_result"
    }
   ],
   "source": [
    "df.describe()"
   ]
  },
  {
   "cell_type": "code",
   "execution_count": 290,
   "id": "8e0da8e7-e9d5-47cf-970c-45de81a0465a",
   "metadata": {},
   "outputs": [],
   "source": [
    "df['original_price'] = df['original_price'].str.replace('[^0-9.]', '', regex=True).astype(float)\n",
    "df['deal_price'] = df['deal_price'].str.replace('[^0-9.]', '', regex=True).astype(float)\n"
   ]
  },
  {
   "cell_type": "code",
   "execution_count": 291,
   "id": "65957a27-56ed-43a2-937b-49fb3420b45b",
   "metadata": {},
   "outputs": [],
   "source": [
    "df['original_price'] = df['original_price'].fillna(df['original_price'].mean())\n"
   ]
  },
  {
   "cell_type": "code",
   "execution_count": 292,
   "id": "3b46562b-136c-461a-80f7-1524454e3094",
   "metadata": {},
   "outputs": [],
   "source": [
    "df['reviews'] = df['reviews'].astype(str).str.extract(r'(\\d+)').astype(int)"
   ]
  },
  {
   "cell_type": "code",
   "execution_count": 293,
   "id": "bef317ad-866a-4318-acd9-c743ff71cc1e",
   "metadata": {},
   "outputs": [
    {
     "name": "stdout",
     "output_type": "stream",
     "text": [
      "<class 'pandas.core.frame.DataFrame'>\n",
      "RangeIndex: 65 entries, 0 to 64\n",
      "Data columns (total 8 columns):\n",
      " #   Column          Non-Null Count  Dtype  \n",
      "---  ------          --------------  -----  \n",
      " 0   title           65 non-null     object \n",
      " 1   original_price  65 non-null     float64\n",
      " 2   deal_price      16 non-null     float64\n",
      " 3   rating          65 non-null     float64\n",
      " 4   reviews         65 non-null     int32  \n",
      " 5   style           65 non-null     object \n",
      " 6   budget          65 non-null     object \n",
      " 7   sentiment       65 non-null     object \n",
      "dtypes: float64(3), int32(1), object(4)\n",
      "memory usage: 3.9+ KB\n"
     ]
    }
   ],
   "source": [
    "df.info()"
   ]
  },
  {
   "cell_type": "code",
   "execution_count": 294,
   "id": "e0fffca2-de23-472b-8f23-940d8600d2da",
   "metadata": {},
   "outputs": [
    {
     "data": {
      "text/plain": [
       "<Axes: xlabel='rating', ylabel='Count'>"
      ]
     },
     "execution_count": 294,
     "metadata": {},
     "output_type": "execute_result"
    },
    {
     "data": {
      "image/png": "[encoded data removed]",
      "text/plain": [
       "<Figure size 640x480 with 1 Axes>"
      ]
     },
     "metadata": {},
     "output_type": "display_data"
    }
   ],
   "source": [
    "sns.histplot(df['rating'], bins=10, kde=True)\n"
   ]
  },
  {
   "cell_type": "code",
   "execution_count": 295,
   "id": "ee941a31-b30f-443e-bc72-7ee900ee256c",
   "metadata": {},
   "outputs": [
    {
     "data": {
      "text/plain": [
       "<Axes: xlabel='original_price', ylabel='deal_price'>"
      ]
     },
     "execution_count": 295,
     "metadata": {},
     "output_type": "execute_result"
    },
    {
     "data": {
      "image/png": "[encoded data removed]",
      "text/plain": [
       "<Figure size 640x480 with 1 Axes>"
      ]
     },
     "metadata": {},
     "output_type": "display_data"
    }
   ],
   "source": [
    "df.plot(kind='scatter', x='original_price', y='deal_price', alpha=0.7)\n"
   ]
  },
  {
   "cell_type": "code",
   "execution_count": 296,
   "id": "a91ecdb9-e1e5-4796-a7aa-10bb00a5cb53",
   "metadata": {},
   "outputs": [
    {
     "data": {
      "text/plain": [
       "<Axes: xlabel='sentiment'>"
      ]
     },
     "execution_count": 296,
     "metadata": {},
     "output_type": "execute_result"
    },
    {
     "data": {
      "image/png": "[encoded data removed]",
      "text/plain": [
       "<Figure size 640x480 with 1 Axes>"
      ]
     },
     "metadata": {},
     "output_type": "display_data"
    }
   ],
   "source": [
    "df['sentiment'].value_counts().plot(kind='bar')\n"
   ]
  },
  {
   "cell_type": "code",
   "execution_count": 297,
   "id": "ee794d1f-4c3d-4eef-8b95-1e7fddf79b27",
   "metadata": {},
   "outputs": [
    {
     "data": {
      "text/plain": [
       "Text(0.5, 1.0, 'style')"
      ]
     },
     "execution_count": 297,
     "metadata": {},
     "output_type": "execute_result"
    },
    {
     "data": {
      "image/png": "[encoded data removed]",
      "text/plain": [
       "<Figure size 640x480 with 1 Axes>"
      ]
     },
     "metadata": {},
     "output_type": "display_data"
    }
   ],
   "source": [
    "df['style'].value_counts().plot(kind='barh')\n",
    "plt.title(\"style\")\n"
   ]
  },
  {
   "cell_type": "code",
   "execution_count": 298,
   "id": "71622805-c3cc-4995-9f9e-5ddede6c3a2b",
   "metadata": {},
   "outputs": [
    {
     "data": {
      "text/plain": [
       "Text(0.5, 1.0, 'Budget')"
      ]
     },
     "execution_count": 298,
     "metadata": {},
     "output_type": "execute_result"
    },
    {
     "data": {
      "image/png": "[encoded data removed]",
      "text/plain": [
       "<Figure size 640x480 with 1 Axes>"
      ]
     },
     "metadata": {},
     "output_type": "display_data"
    }
   ],
   "source": [
    "df['budget'].value_counts().plot(kind='pie', autopct='%1.1f%%')\n",
    "plt.title(\"Budget\")\n"
   ]
  },
  {
   "cell_type": "code",
   "execution_count": 299,
   "id": "d3410ca5-0767-402e-9e7c-b995c763565b",
   "metadata": {},
   "outputs": [
    {
     "name": "stdout",
     "output_type": "stream",
     "text": [
      "Correlation between price and rating:\n",
      "                 original_price    rating\n",
      "original_price        1.000000  0.010431\n",
      "rating                0.010431  1.000000\n",
      "Sentiment distribution:\n",
      " sentiment\n",
      "Neutral    65\n",
      "Name: count, dtype: int64\n",
      "Top 5 styles:\n",
      " style\n",
      "Other         54\n",
      "modern         7\n",
      "rustic         3\n",
      "minimalist     1\n",
      "Name: count, dtype: int64\n"
     ]
    }
   ],
   "source": [
    "\n",
    "# Correlation between price and rating\n",
    "correlation = df[['original_price', 'rating']].corr()\n",
    "print(\"Correlation between price and rating:\\n\", correlation)\n",
    "\n",
    "# Sentiment distribution\n",
    "sentiment_counts = df['sentiment'].value_counts()\n",
    "print(\"Sentiment distribution:\\n\", sentiment_counts)\n",
    "\n",
    "# Popular styles\n",
    "popular_styles = df['style'].value_counts().head(5)\n",
    "print(\"Top 5 styles:\\n\", popular_styles)\n"
   ]
  },
  {
   "cell_type": "code",
   "execution_count": 300,
   "id": "110240e1-3690-4bcc-9292-8c48650b2efb",
   "metadata": {},
   "outputs": [
    {
     "data": {
      "image/png": "[encoded data removed]",
      "text/plain": [
       "<Figure size 800x600 with 1 Axes>"
      ]
     },
     "metadata": {},
     "output_type": "display_data"
    }
   ],
   "source": [
    "\n",
    "plt.figure(figsize=(8, 6))\n",
    "sns.scatterplot(x='original_price', y='rating', data=df)\n",
    "plt.title(\"Price vs Rating\")\n",
    "plt.xlabel(\"Original Price\")\n",
    "plt.ylabel(\"Rating\")\n",
    "plt.show()\n",
    "\n",
    "\n"
   ]
  },
  {
   "cell_type": "code",
   "execution_count": 301,
   "id": "d3a7e35f-befa-4336-afb5-609e0f781758",
   "metadata": {},
   "outputs": [
    {
     "data": {
      "image/png": "[encoded data removed]",
      "text/plain": [
       "<Figure size 800x600 with 1 Axes>"
      ]
     },
     "metadata": {},
     "output_type": "display_data"
    }
   ],
   "source": [
    "\n",
    "plt.figure(figsize=(8, 6))\n",
    "sns.scatterplot(x='deal_price', y='rating', data=df)\n",
    "plt.title(\"Price vs Rating\")\n",
    "plt.xlabel(\"deal Price\")\n",
    "plt.ylabel(\"Rating\")\n",
    "plt.show()"
   ]
  },
  {
   "cell_type": "code",
   "execution_count": 302,
   "id": "4f9a9591-807a-4ca4-a2bd-7bbcbd2efc9d",
   "metadata": {},
   "outputs": [],
   "source": [
    "#recommendation \n",
    "#Enhance Customer Experience\n",
    "# Focus on Sustainability\n",
    "#Optimize Pricing and Discounts\n",
    "#Conduct Surveys on Style Preferences\n",
    "#Incorporate Customer Feedback\n",
    "#Focus on Affordable Options\n",
    "#Highlight Bestsellers and Trends\n",
    "#Strengthen Delivery and Returns"
   ]
  }
 ],
 "metadata": {
  "kernelspec": {
   "display_name": "Python 3 (ipykernel)",
   "language": "python",
   "name": "python3"
  },
  "language_info": {
   "codemirror_mode": {
    "name": "ipython",
    "version": 3
   },
   "file_extension": ".py",
   "mimetype": "text/x-python",
   "name": "python",
   "nbconvert_exporter": "python",
   "pygments_lexer": "ipython3",
   "version": "3.12.4"
  }
 },
 "nbformat": 4,
 "nbformat_minor": 5
}
